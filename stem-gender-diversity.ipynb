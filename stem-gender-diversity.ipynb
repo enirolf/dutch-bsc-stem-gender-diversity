{
 "cells": [
  {
   "cell_type": "markdown",
   "metadata": {},
   "source": [
    "# Gender diversity at the FNWI\n",
    "---"
   ]
  },
  {
   "cell_type": "code",
   "execution_count": null,
   "metadata": {},
   "outputs": [],
   "source": [
    "# Environment setup\n",
    "import matplotlib.pyplot as plt\n",
    "from matplotlib import rc, colors\n",
    "import numpy as np\n",
    "import pandas as pd\n",
    "import sys\n",
    "import os\n",
    "\n",
    "# Matplotlib config\n",
    "plt.style.use('seaborn-muted')"
   ]
  },
  {
   "cell_type": "code",
   "execution_count": null,
   "metadata": {},
   "outputs": [],
   "source": [
    "# Import data sources\n",
    "COL_NAMES = ['TYPE HOGER ONDERWIJS', \n",
    "             'INSTELLINGSNAAM ACTUEEL', \n",
    "             'CROHO ONDERDEEL', \n",
    "             'OPLEIDINGSNAAM ACTUEEL', \n",
    "             'OPLEIDINGSVORM', \n",
    "             'GESLACHT', \n",
    "             '2015', \n",
    "             '2016', \n",
    "             '2017', \n",
    "             '2018', \n",
    "             '2019']\n",
    "enrollments = pd.read_csv('data/inschrijvingen-wo-2019.csv', sep=';', header=0, usecols=COL_NAMES)"
   ]
  },
  {
   "cell_type": "code",
   "execution_count": null,
   "metadata": {},
   "outputs": [],
   "source": [
    "# Filter out the UvA FNWI data specifically\n",
    "is_uva = enrollments['INSTELLINGSNAAM ACTUEEL'] == 'Universiteit van Amsterdam'\n",
    "is_nature = enrollments['CROHO ONDERDEEL'] == 'natuur'\n",
    "is_bachelor = enrollments['TYPE HOGER ONDERWIJS'] == 'bachelor'\n",
    "is_master = enrollments['TYPE HOGER ONDERWIJS'] == 'master'\n",
    "\n",
    "uva_fnwi_bachelors = enrollments[is_uva & is_nature & is_bachelor]\n",
    "uva_fnwi_masters = enrollments[is_uva & is_nature & is_master]"
   ]
  },
  {
   "cell_type": "code",
   "execution_count": null,
   "metadata": {},
   "outputs": [],
   "source": [
    "# Preview of what our data looks like\n",
    "uva_fnwi_bachelors"
   ]
  },
  {
   "cell_type": "markdown",
   "metadata": {},
   "source": [
    "## Bachelor Programs"
   ]
  },
  {
   "cell_type": "markdown",
   "metadata": {},
   "source": [
    "Note: In the data for both Physics as well as Chemistry, there are duplicate rows, one with '(joint degree)' and one without. Since the data is not identical, we assume that they are each others complement and we can add them together. However, we should verify that this really is the case."
   ]
  },
  {
   "cell_type": "code",
   "execution_count": null,
   "metadata": {},
   "outputs": [],
   "source": [
    "# Merge duplicate joint degree programs\n",
    "uva_fnwi_bachelors = uva_fnwi_bachelors.replace({\n",
    "        'B Scheikunde (joint degree)': 'B Scheikunde',\n",
    "        'B Natuur- en Sterrenkunde (joint degree)': 'B Natuur- en Sterrenkunde'\n",
    "    })\n",
    "grouped_data = uva_fnwi_bachelors.groupby(['OPLEIDINGSNAAM ACTUEEL', 'GESLACHT']).aggregate(sum)"
   ]
  },
  {
   "cell_type": "markdown",
   "metadata": {},
   "source": [
    "### Enrollments in the last 5 years\n",
    "\n",
    "The table below shows the enrollments of each program per year over the last five years, for each gender.\n",
    "\n",
    "TODO: find way to visualize this in an organised but complete way."
   ]
  },
  {
   "cell_type": "code",
   "execution_count": null,
   "metadata": {},
   "outputs": [],
   "source": [
    "grouped_data"
   ]
  },
  {
   "cell_type": "markdown",
   "metadata": {},
   "source": [
    "### Gender diversity in 2019"
   ]
  },
  {
   "cell_type": "code",
   "execution_count": null,
   "metadata": {},
   "outputs": [],
   "source": [
    "data_2019 = uva_fnwi_bachelors.groupby(['OPLEIDINGSNAAM ACTUEEL', 'GESLACHT'])['2019'].sum()\n",
    "data_2019.to_frame()"
   ]
  },
  {
   "cell_type": "code",
   "execution_count": null,
   "metadata": {},
   "outputs": [],
   "source": [
    "data_2019.unstack().plot(kind='bar', figsize=(15, 10))\n",
    "plt.legend(['male', 'female'], title='Gender')\n",
    "plt.xlabel('Program')\n",
    "plt.show()"
   ]
  }
 ],
 "metadata": {
  "kernelspec": {
   "display_name": ".venv",
   "language": "python",
   "name": ".venv"
  },
  "language_info": {
   "codemirror_mode": {
    "name": "ipython",
    "version": 3
   },
   "file_extension": ".py",
   "mimetype": "text/x-python",
   "name": "python",
   "nbconvert_exporter": "python",
   "pygments_lexer": "ipython3",
   "version": "3.8.0"
  }
 },
 "nbformat": 4,
 "nbformat_minor": 2
}
